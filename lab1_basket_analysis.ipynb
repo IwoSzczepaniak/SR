{
 "cells": [
  {
   "cell_type": "markdown",
   "metadata": {},
   "source": [
    "# Laboratorium 1 - analiza koszykowa\n",
    "\n",
    "## Przygotowanie\n",
    "\n",
    " * pobierz i wypakuj dataset: https://kaggle.com/datasets/rashikrahmanpritom/groceries-dataset-for-market-basket-analysismba?resource=download&select=basket.csv\n",
    "   * alternatywnie, pobierz plik `basket.csv` z Teamsów\n",
    " * [opcjonalnie] Utwórz wirtualne środowisko\n",
    " `python3 -m venv ./recsyslab1`\n",
    " * zainstaluj potrzebne biblioteki:\n",
    " `pip install more-itertools`"
   ]
  },
  {
   "cell_type": "markdown",
   "metadata": {},
   "source": [
    "## Część 1. - przygotowanie danych"
   ]
  },
  {
   "cell_type": "code",
   "execution_count": 62,
   "metadata": {},
   "outputs": [],
   "source": [
    "# importujemy wszystkie potrzebne pakiety\n",
    "\n",
    "from more_itertools import powerset\n",
    "from collections import defaultdict"
   ]
  },
  {
   "cell_type": "code",
   "execution_count": 63,
   "metadata": {},
   "outputs": [],
   "source": [
    "# definiujemy stale\n",
    "\n",
    "PATH = \"./basket.csv\"\n",
    "EPSILON = 0.001\n",
    "K = 4"
   ]
  },
  {
   "cell_type": "code",
   "execution_count": 64,
   "metadata": {},
   "outputs": [],
   "source": [
    "# wczytujemy dane o koszykach\n",
    "\n",
    "\n",
    "def read_baskets(path: str) -> list[tuple[str]]:\n",
    "    with open(path) as f:\n",
    "        raw = f.read()\n",
    "    baskets = [\n",
    "        set([y.lower() for y in x.split(\",\") if y]) for x in raw.split(\"\\n\")[1:] if x\n",
    "    ]\n",
    "    return baskets\n",
    "\n",
    "\n",
    "def unique_products(baskets: list[tuple[str]]) -> list[str]:\n",
    "    products = set()\n",
    "    for basket in baskets:\n",
    "        products.update(basket)\n",
    "    return sorted(list(products))\n",
    "\n",
    "\n",
    "baskets = read_baskets(PATH)\n",
    "products = unique_products(baskets)"
   ]
  },
  {
   "cell_type": "markdown",
   "metadata": {},
   "source": [
    "## Część 2. - obliczanie wskaźników"
   ]
  },
  {
   "cell_type": "code",
   "execution_count": 65,
   "metadata": {},
   "outputs": [],
   "source": [
    "# obliczamy strukture danych (np. slownik albo graf) przechowujaca wszystkie interesujace wartosci `support`\n",
    "\n",
    "\n",
    "def stringify_tuple(tpl: tuple[str]):\n",
    "    return \",\".join(sorted(list(tpl)))\n",
    "\n",
    "\n",
    "def get_supports(\n",
    "    baskets: list[tuple[str]], all_products: list[str], epsilon: float\n",
    "):\n",
    "    product_baskets_map = defaultdict(list)\n",
    "    supports_dict = {}\n",
    "    memo = {}\n",
    "\n",
    "    for basket in baskets:\n",
    "        for item in basket:\n",
    "            product_baskets_map[item].append(basket)\n",
    "\n",
    "    for cur_basket in baskets:\n",
    "        for possible_basket in powerset(cur_basket):\n",
    "            key = stringify_tuple(possible_basket)\n",
    "            if key not in memo:\n",
    "                occurrences = sum(\n",
    "                    set(possible_basket).issubset(set(basket))\n",
    "                    for product in possible_basket\n",
    "                    for basket in product_baskets_map[product]\n",
    "                )\n",
    "                support = occurrences / len(baskets)\n",
    "                memo[key] = support\n",
    "                if support >= epsilon:\n",
    "                    supports_dict[key] = support\n",
    "    return supports_dict\n",
    "\n",
    "\n",
    "supports = get_supports(baskets, products, EPSILON)\n",
    "# supports"
   ]
  },
  {
   "cell_type": "code",
   "execution_count": 66,
   "metadata": {},
   "outputs": [],
   "source": [
    "# definiujemy funkcje obliczajace support, confidence i lift\n",
    "\n",
    "\n",
    "def support(supports, products: tuple[str], baskets: list[tuple[str]] = baskets) -> float:\n",
    "    products_key = stringify_tuple(products)\n",
    "    \n",
    "    if products_key not in supports:\n",
    "        products_set = set(products)\n",
    "        occurences = sum(products_set.issubset(basket) for basket in baskets)\n",
    "        supports[products_key] = occurences / len(baskets)\n",
    "    \n",
    "    return supports[products_key]\n",
    "\n",
    "\n",
    "def confidence(\n",
    "    supports, prior_products: tuple[str], following_products: tuple[str]\n",
    ") -> float:\n",
    "    new_products = prior_products + following_products\n",
    "    return support(supports, new_products) / support(supports, prior_products)\n",
    "\n",
    "\n",
    "def lift(supports, prior_products: tuple[str], following_products: tuple[str]) -> float:\n",
    "    new_products = prior_products + following_products\n",
    "    return support(supports, new_products) / (\n",
    "        support(supports, prior_products) * support(supports, following_products)\n",
    "    )"
   ]
  },
  {
   "cell_type": "code",
   "execution_count": 67,
   "metadata": {},
   "outputs": [
    {
     "name": "stdout",
     "output_type": "stream",
     "text": [
      "0.02793557441689501\n",
      "0.14354066985645933\n",
      "1.6714389440172768\n"
     ]
    }
   ],
   "source": [
    "print(support(supports, (\"whole milk\", \"rolls/buns\")))\n",
    "print(confidence(supports, (\"whole milk\", \"rolls/buns\"), (\"yogurt\",)))\n",
    "print(lift(supports, (\"whole milk\", \"rolls/buns\"), (\"yogurt\",)))"
   ]
  },
  {
   "cell_type": "markdown",
   "metadata": {},
   "source": [
    "## Część 3. - generowanie rekomendacji"
   ]
  },
  {
   "cell_type": "code",
   "execution_count": 68,
   "metadata": {},
   "outputs": [],
   "source": [
    "# wyznaczamy liste potencjalnych rekomendacji\n",
    "# rekomendowane artykuly powinny miec lift > 1 i jak najwyzszy confidence\n",
    "\n",
    "\n",
    "def generate_basic_candidates(\n",
    "    basket: tuple[str], products: list[str], supports\n",
    ") -> list[tuple[str, tuple[str], float, float]]:\n",
    "    result = []\n",
    "    basket_tuple = tuple(basket)\n",
    "    for product in products:\n",
    "        if product in basket:\n",
    "            continue\n",
    "        if lift(supports, basket_tuple, (product,)) > 1:\n",
    "            result.append(\n",
    "                (\n",
    "                    product,\n",
    "                    confidence(supports, basket_tuple, (product,)),\n",
    "                    lift(supports, basket_tuple, (product,)),\n",
    "                )\n",
    "            )\n",
    "\n",
    "    return list(\n",
    "        map(lambda x: x + (x[1],), sorted(result, key=lambda x: x[1], reverse=True))\n",
    "    )"
   ]
  },
  {
   "cell_type": "code",
   "execution_count": 69,
   "metadata": {},
   "outputs": [],
   "source": [
    "# zaproponuj drugi, bardziej zaawansowany algorytm, np.:\n",
    "# - jesli produkt X wystepuje w liscie kandydatow kilkukrotnie, oblicz srednia lub iloczyn confidence\n",
    "# - posortuj kandydatow po iloczynie configence i lift\n",
    "\n",
    "\n",
    "def generate_advanced_candidates(\n",
    "    basket: tuple[str], products: list[str], supports\n",
    ") -> list[tuple[str, float, float, float]]:\n",
    "    basket_tuple = tuple(basket)\n",
    "    prod_dict = {}\n",
    "\n",
    "    for product in products:\n",
    "        if product in basket:\n",
    "            continue\n",
    "\n",
    "        if lift(supports, basket_tuple, (product,)) > 1:\n",
    "            if product not in prod_dict:\n",
    "                prod_dict[product] = (\n",
    "                    confidence(supports, basket_tuple, (product,)),\n",
    "                    lift(supports, basket_tuple, (product,)),\n",
    "                )\n",
    "            else:\n",
    "                old_res = prod_dict[product]\n",
    "                prod_dict[product] = (\n",
    "                    confidence(supports, basket_tuple, (product,)) * old_res[0],\n",
    "                    lift(supports, basket_tuple, (product,)),\n",
    "                )\n",
    "\n",
    "    res = []\n",
    "    for key in prod_dict:\n",
    "        val = prod_dict[key]\n",
    "        res.append((key, val[0] * val[1], val[0], val[1]))\n",
    "\n",
    "    return sorted(res, key=lambda x: x[1], reverse=True)"
   ]
  },
  {
   "cell_type": "code",
   "execution_count": 70,
   "metadata": {},
   "outputs": [
    {
     "name": "stdout",
     "output_type": "stream",
     "text": [
      "{'whole milk', 'sausage', 'yogurt', 'semi-finished bread'}\n",
      "[('other vegetables', 0.5, 4.09496442255063, 0.5)]\n",
      "[('other vegetables', 2.047482211275315, 0.5, 4.09496442255063)]\n"
     ]
    }
   ],
   "source": [
    "print(baskets[1])\n",
    "basic = generate_basic_candidates(baskets[1], products, supports)\n",
    "adv = generate_advanced_candidates(baskets[1], products, supports)\n",
    "\n",
    "print(basic)\n",
    "print(adv)"
   ]
  },
  {
   "cell_type": "code",
   "execution_count": 71,
   "metadata": {},
   "outputs": [
    {
     "name": "stdout",
     "output_type": "stream",
     "text": [
      "{'domestic eggs', 'white wine', 'tropical fruit', 'yogurt', 'photo/film', 'soda', 'root vegetables'}\n",
      "[]\n",
      "[]\n"
     ]
    }
   ],
   "source": [
    "print(baskets[33])\n",
    "basic = generate_basic_candidates(baskets[33], products, supports)\n",
    "adv = generate_advanced_candidates(baskets[33], products, supports)\n",
    "\n",
    "print(basic)\n",
    "print(adv)"
   ]
  },
  {
   "cell_type": "code",
   "execution_count": 72,
   "metadata": {},
   "outputs": [],
   "source": [
    "def pretty_print(chosen_basket, candidates, metrics_name):\n",
    "    print(\", \".join(chosen_basket))\n",
    "\n",
    "    print(\"\".join([\"-\" for _ in range(110)]))\n",
    "    print(\n",
    "        \"| {:24} | {:24} | {:24} | {:24} |\".format(\n",
    "            *[\"products\", f\"metrics({metrics_name})\", \"confidence\", \"lift\"]\n",
    "        )\n",
    "    )\n",
    "\n",
    "    print(\"\".join([\"-\" for _ in range(110)]))\n",
    "    for candidate in candidates[:5]:\n",
    "        print(\"| {:24} | {:24} | {:24} | {:24} |\".format(*candidate))\n",
    "    print()"
   ]
  },
  {
   "cell_type": "code",
   "execution_count": 73,
   "metadata": {},
   "outputs": [],
   "source": [
    "default_baskets = [\n",
    "    {\"white wine\", \"domestic eggs\"},\n",
    "    {\"root vegetables\", \"yogurt\"},\n",
    "    {\"whole milk\", \"coffee\"},\n",
    "]"
   ]
  },
  {
   "cell_type": "code",
   "execution_count": 74,
   "metadata": {},
   "outputs": [
    {
     "name": "stdout",
     "output_type": "stream",
     "text": [
      "domestic eggs, white wine\n",
      "--------------------------------------------------------------------------------------------------------------\n",
      "| products                 | metrics(lift)            | confidence               | lift                     |\n",
      "--------------------------------------------------------------------------------------------------------------\n",
      "| candy                    |                     0.25 |       17.398837209302325 |                     0.25 |\n",
      "| canned beer              |                     0.25 |        5.328703703703704 |                     0.25 |\n",
      "| photo/film               |                     0.25 |        47.35126582278481 |                     0.25 |\n",
      "| root vegetables          |                     0.25 |        3.593419788664745 |                     0.25 |\n",
      "| soda                     |                     0.25 |       2.5745010323468684 |                     0.25 |\n",
      "\n",
      "root vegetables, yogurt\n",
      "--------------------------------------------------------------------------------------------------------------\n",
      "| products                 | metrics(lift)            | confidence               | lift                     |\n",
      "--------------------------------------------------------------------------------------------------------------\n",
      "| whole milk               |      0.23437499999999997 |       1.4841105057130768 |      0.23437499999999997 |\n",
      "| tropical fruit           |      0.16406249999999997 |       2.4209735576923075 |      0.16406249999999997 |\n",
      "| rolls/buns               |      0.11718749999999999 |       1.0652956029769136 |      0.11718749999999999 |\n",
      "| onions                   |                  0.03125 |        1.543213696369637 |                  0.03125 |\n",
      "| oil                      |     0.023437499999999997 |       1.5726247197309413 |     0.023437499999999997 |\n",
      "\n",
      "whole milk, coffee\n",
      "--------------------------------------------------------------------------------------------------------------\n",
      "| products                 | metrics(lift)            | confidence               | lift                     |\n",
      "--------------------------------------------------------------------------------------------------------------\n",
      "| other vegetables         |      0.18421052631578946 |       1.5086711030449687 |      0.18421052631578946 |\n",
      "| bottled water            |      0.13157894736842105 |       2.1682993276141898 |      0.13157894736842105 |\n",
      "| pastry                   |      0.13157894736842105 |        2.543689650482796 |      0.13157894736842105 |\n",
      "| chewing gum              |      0.01754385964912281 |       1.4583820662768034 |      0.01754385964912281 |\n",
      "| ham                      |      0.01754385964912281 |       1.0254248903508771 |      0.01754385964912281 |\n",
      "\n"
     ]
    }
   ],
   "source": [
    "for chosen_basket in default_baskets:\n",
    "    pretty_print(\n",
    "        chosen_basket,\n",
    "        generate_basic_candidates(chosen_basket, products, supports),\n",
    "        \"lift\",\n",
    "    )"
   ]
  },
  {
   "cell_type": "code",
   "execution_count": 75,
   "metadata": {},
   "outputs": [
    {
     "name": "stdout",
     "output_type": "stream",
     "text": [
      "domestic eggs, white wine\n",
      "--------------------------------------------------------------------------------------------------------------\n",
      "| products                 | metrics(lift*confidence) | confidence               | lift                     |\n",
      "--------------------------------------------------------------------------------------------------------------\n",
      "| photo/film               |       11.837816455696203 |                     0.25 |        47.35126582278481 |\n",
      "| candy                    |        4.349709302325581 |                     0.25 |       17.398837209302325 |\n",
      "| waffles                  |       3.3761281588447654 |                     0.25 |       13.504512635379061 |\n",
      "| canned beer              |        1.332175925925926 |                     0.25 |        5.328703703703704 |\n",
      "| tropical fruit           |       0.9222756410256411 |                     0.25 |       3.6891025641025643 |\n",
      "\n",
      "root vegetables, yogurt\n",
      "--------------------------------------------------------------------------------------------------------------\n",
      "| products                 | metrics(lift*confidence) | confidence               | lift                     |\n",
      "--------------------------------------------------------------------------------------------------------------\n",
      "| tropical fruit           |       0.3971909743088941 |      0.16406249999999997 |       2.4209735576923075 |\n",
      "| whole milk               |       0.3478383997765023 |      0.23437499999999997 |       1.4841105057130768 |\n",
      "| rolls/buns               |      0.12483932847385705 |      0.11718749999999999 |       1.0652956029769136 |\n",
      "| soft cheese              |      0.05479614257812499 |     0.023437499999999997 |               2.33796875 |\n",
      "| onions                   |      0.04822542801155116 |                  0.03125 |        1.543213696369637 |\n",
      "\n",
      "whole milk, coffee\n",
      "--------------------------------------------------------------------------------------------------------------\n",
      "| products                 | metrics(lift*confidence) | confidence               | lift                     |\n",
      "--------------------------------------------------------------------------------------------------------------\n",
      "| pastry                   |       0.3346960066424732 |      0.13157894736842105 |        2.543689650482796 |\n",
      "| bottled water            |       0.2853025431071302 |      0.13157894736842105 |       2.1682993276141898 |\n",
      "| other vegetables         |      0.27791309792933633 |      0.18421052631578946 |       1.5086711030449687 |\n",
      "| canned fruit             |      0.05482639346905276 |     0.008771929824561405 |        6.250208855472014 |\n",
      "| tidbits                  |      0.05233428467500491 |     0.008771929824561405 |        5.966108452950559 |\n",
      "\n"
     ]
    }
   ],
   "source": [
    "for chosen_basket in default_baskets:\n",
    "    pretty_print(\n",
    "        chosen_basket,\n",
    "        generate_advanced_candidates(chosen_basket, products, supports),\n",
    "        \"lift*confidence\",\n",
    "    )"
   ]
  }
 ],
 "metadata": {
  "kernelspec": {
   "display_name": "recsyslab1",
   "language": "python",
   "name": "python3"
  },
  "language_info": {
   "codemirror_mode": {
    "name": "ipython",
    "version": 3
   },
   "file_extension": ".py",
   "mimetype": "text/x-python",
   "name": "python",
   "nbconvert_exporter": "python",
   "pygments_lexer": "ipython3",
   "version": "3.12.7"
  }
 },
 "nbformat": 4,
 "nbformat_minor": 4
}
